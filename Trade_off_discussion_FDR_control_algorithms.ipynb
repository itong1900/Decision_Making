{
 "cells": [
  {
   "cell_type": "markdown",
   "metadata": {},
   "source": [
    "### Multiple Hypothesis Testing"
   ]
  },
  {
   "cell_type": "markdown",
   "metadata": {},
   "source": [
    "### Background Set Up\n",
    "Consider testing N = 1000 hypotheses $H_1,.....,H_N$ , and let $\\mathcal{H}_0 \\subseteq {1, . . . , N}$ denote the indices of the nulls among them (so that $i \\in \\mathcal{H}_0$ if index $i$ correspond to a null). Denote by $\\pi_0$ the proportion of true null hypotheses, $\\pi_0 = \\frac{|\\mathcal{H}_0|}{N}$. Denote by $P_1, . . . , P_N$ the corresponding p-values. Suppose that the alternative p-values $P_i,i \\notin \\mathcal{H}_0$ are equal to 0.01 with probability one, and that the null p-values $P_i,i \\in \\mathcal{H}_0$ are as usual independent and uniformly distributed on [0, 1]. The target FDR or FWER level is $\\alpha = 0.05$."
   ]
  },
  {
   "cell_type": "markdown",
   "metadata": {},
   "source": [
    "The story can be interpretted as:<br/><br/>\n",
    "$H_1,H_2,H_3,............H_i..................,H_{998},H_{999},H_{1000}$ and their corresponding p-values $P_i$<br/><br/>\n",
    "$P_1,P_2,P_3,..............P_i....................,P_{998},P_{999},P_{1000}$<br/><br/>\n",
    "Among all $H_i$, proportion $\\pi_0$ of them are $\\in$ $\\mathcal{H}_0$, meaning their true null hypothesis and their $P_i$ are i.i.d as $U[0,1]$, <br/><br/>\n",
    "The rest of them(proportion $1-\\pi_0$), are true alternate hypothesis($\\notin \\mathcal{H_0}$), their $P_i = 0.01$ for sure."
   ]
  },
  {
   "cell_type": "code",
   "execution_count": 2,
   "metadata": {},
   "outputs": [],
   "source": [
    "import numpy as np\n",
    "from statistics import mean \n",
    "from scipy.stats import norm\n",
    "import matplotlib.pyplot as plt\n",
    "import math\n",
    "import pandas as pd\n",
    "from scipy.special import comb"
   ]
  },
  {
   "cell_type": "markdown",
   "metadata": {},
   "source": [
    "#### Problem\n",
    "There's an argument that FDR is a problem when the proportion of alternatives among the N hypotheses is low.  We'll demonstrate this statement in practice."
   ]
  },
  {
   "cell_type": "markdown",
   "metadata": {},
   "source": [
    "### 1. “Classical” uncorrected decision strategy: \n",
    "reject $H_i$ if $P_i \\leq \\alpha$. <br/> We'll now find the resulting FDR in terms of $\\pi_0, N, \\alpha$."
   ]
  },
  {
   "cell_type": "markdown",
   "metadata": {},
   "source": [
    "By our set up we know,\n",
    "- FDR(False Discovery Rate) = $\\mathbb{E}$(False Discovery Proportion), that is, FDR $ = \\mathbb{E}(\\frac{FP}{TP+FP})$\n",
    "- $\\alpha = 0.05$; \n",
    "- FP: $i\\in \\mathcal{H_0}$, $P_i < \\alpha$; --- # of FP $\\sim Bin(N\\pi_0, \\alpha)$\n",
    "- TP: $i\\notin \\mathcal{H_0}$, $P_i < \\alpha$; --- Always reject, # of TP = $N(1-\\pi_0)$ for sure since their $P_i = 0.01$ for sure\n"
   ]
  },
  {
   "cell_type": "markdown",
   "metadata": {},
   "source": [
    "Now let the quantity of FP $= x$, then $P(X=x) =$  $N\\pi_0 \\choose x$ $\\alpha ^{x}(1-\\alpha)^{N\\pi_0 - x}$ .<br/><br/> So, FDP = $\\frac{x}{N(1-\\pi_0) + x}$ <br/><br/>\n",
    "Therefore, FDR = $\\sum\\limits_{x=0}^{N\\pi_0} \\frac{x}{N(1-\\pi_0) + x}$ $N\\pi_0 \\choose x$ $\\alpha ^{x}(1-\\alpha)^{N\\pi_0 - x}$"
   ]
  },
  {
   "cell_type": "markdown",
   "metadata": {},
   "source": [
    "2. **We are curious about how's FDR behaving under with various $pi_0$, so let's plot FDR vs $\\pi_0$ over <div align = \"center\"> $ \\pi_0 \\in \\Pi_0: = \\{0.1, 0.2, 0.3, 0.4, 0.5, 0.6, 0.7, 0.8, 0.9\\}$. </div>**"
   ]
  },
  {
   "cell_type": "code",
   "execution_count": 4,
   "metadata": {},
   "outputs": [
    {
     "data": {
      "image/png": "[encoded data removed]",
      "text/plain": [
       "<Figure size 432x288 with 1 Axes>"
      ]
     },
     "metadata": {
      "needs_background": "light"
     },
     "output_type": "display_data"
    }
   ],
   "source": [
    "def FDR(pi_0,alpha):\n",
    "    N = 1000\n",
    "    avg = 0\n",
    "    for x in range(int(N*pi_0)):\n",
    "        avg += x/(N*(1-pi_0)+x) * comb(N*pi_0, x) * alpha**x  * (1-alpha)**(N*pi_0-x)\n",
    "    return avg\n",
    "\n",
    "pi_0 = list([0.1,0.2,0.3,0.4,0.5,0.6,0.7,0.8,0.9])\n",
    "FDRs = np.zeros(9)\n",
    "for i in range(9):\n",
    "    FDRs[i] = FDR(pi_0[i], 0.05)\n",
    "\n",
    "plt.plot(pi_0, list(FDRs),'ro')\n",
    "plt.xlabel(\"pi_0\")\n",
    "plt.ylabel(\"FDR\")\n",
    "plt.title(\"uncorrected\")\n",
    "plt.show()"
   ]
  },
  {
   "cell_type": "markdown",
   "metadata": {},
   "source": [
    "Let's also look at the expected sensitivity of this decision rule:\n",
    "<div align = \"center\"> $\\mathbb{E}(Sensitivity) = \\mathbb{E}(\\frac{TP}{TP + FN}) = \\mathbb{E}(\\frac{N(1-\\pi_0)}{N(1-\\pi_0)}) = 1$\n",
    "    </div>  # of FN = 0 since all positives have $P_i = 0.01$ so their's no way to have FN."
   ]
  },
  {
   "cell_type": "markdown",
   "metadata": {},
   "source": [
    "### 3.Now consider the Bonferroni correction\n",
    "Reject if $P_i < \\frac{\\alpha}{N} = \\frac{0.05}{1000}$"
   ]
  },
  {
   "cell_type": "markdown",
   "metadata": {},
   "source": [
    "By our set up we know,\n",
    "- FP: $i\\in \\mathcal{H_0}$, $P_i < \\alpha^{'} = \\frac{0.05}{1000}$;   # of FP $\\sim Bin(N\\pi_0, \\alpha^{'})$\n",
    "- TP: $i\\notin \\mathcal{H_0}$, $P_i < \\alpha^{'} = \\frac{0.05}{1000}$;  always fail to reject, since $P_i = 0.01$ for 100%, so # of TP = 0.\n",
    "- FN: All the TP from previous case becomes FN, therefore # of FN = $N(1-\\pi_0)$"
   ]
  },
  {
   "cell_type": "markdown",
   "metadata": {},
   "source": [
    "With Bonferroni Correction: <br/>\n",
    "<div align = \"center\"> $\\mathbb{E}(Sensitivity) = \\mathbb{E}(\\frac{TP}{TP + FN}) = \\mathbb{E}(\\frac{0}{N(1-\\pi_0)}) = 0$ </div>"
   ]
  },
  {
   "cell_type": "markdown",
   "metadata": {},
   "source": [
    "To get the FDR, all procedures are same except the $\\alpha = \\frac{0.05}{1000}$"
   ]
  },
  {
   "cell_type": "code",
   "execution_count": 6,
   "metadata": {},
   "outputs": [
    {
     "data": {
      "image/png": "[encoded data removed]",
      "text/plain": [
       "<Figure size 432x288 with 1 Axes>"
      ]
     },
     "metadata": {
      "needs_background": "light"
     },
     "output_type": "display_data"
    }
   ],
   "source": [
    "FDRs_bonf = np.zeros(9)\n",
    "for i in range(9):\n",
    "    FDRs_bonf[i] = FDR(pi_0[i], 0.05/1000) \n",
    "    \n",
    "plt.plot(pi_0, list(FDRs_bonf),'ro')\n",
    "plt.xlabel(\"pi_0\")\n",
    "plt.ylabel(\"FDR\")\n",
    "plt.title(\"bonferroni correction\")\n",
    "plt.show()"
   ]
  },
  {
   "cell_type": "markdown",
   "metadata": {},
   "source": [
    "### short recap\n",
    "We are testing an extreme case here, but the Sensitivity and FDR trade off can be reflected from the above two cases.<br/>\n",
    "- **Uncorrected**: Sensitivity = 1, FDR: grow to as large as 0.3 percent when $\\pi_0$ is large<br/>\n",
    "- **Bonferroni Correction**: Sensitivity = 0, FDR: even with large $\\pi_0,$ FDR is at around 0.04%. The only way the Sensitivity is recovered is when the $P_i$ of all ground truth positives are dropped below $\\frac{0.05}{1000}$, which is too demanding. <br/>\n",
    "- Neither of the methods above is ideal , since we don't want large FDRs nor 0 sensitivities."
   ]
  },
  {
   "cell_type": "markdown",
   "metadata": {},
   "source": [
    "### 4. Benjamini-Hochberg\n",
    "Benjimini-Hochberg dealt with this trade-off and will find some $\\alpha$ in between to mitigate the FDR whereas maintaining the Sensitivities. Let's see its performance.<br/><br/>\n",
    "Here's its procedures\n",
    "1. For a given $\\alpha$ , find the largest k such that $P_{(k)} \\leq \\frac{k}{m}\\alpha$\n",
    "2. Reject the null hypothesis (i.e., declare discoveries) for all $H_{(i)}$ for $i = 1,2,...,k$"
   ]
  },
  {
   "cell_type": "code",
   "execution_count": 11,
   "metadata": {},
   "outputs": [],
   "source": [
    "def benjamini_hochberg(p_values,alpha):\n",
    "    n = len(p_values)\n",
    "    p_sorted = np.sort(p_values)\n",
    "    largest_k = 0\n",
    "    for j in range(n):\n",
    "        if p_sorted[j] <= (j+1)*alpha/n:\n",
    "            largest_k = j\n",
    "    \n",
    "    return p_sorted[largest_k]"
   ]
  },
  {
   "cell_type": "code",
   "execution_count": 12,
   "metadata": {},
   "outputs": [
    {
     "name": "stdout",
     "output_type": "stream",
     "text": [
      "The alpha value by Benjamini-Hochberg Algorithm: 0.0041716806920581995\n"
     ]
    }
   ],
   "source": [
    "p_values = [0.01]*100\n",
    "p_values = p_values + list(np.random.uniform(0,1,900))\n",
    "\n",
    "alpha = benjamini_hochberg(p_values, 0.05)\n",
    "print(\"The alpha value by Benjamini-Hochberg Algorithm:\", alpha)"
   ]
  },
  {
   "cell_type": "code",
   "execution_count": 14,
   "metadata": {},
   "outputs": [
    {
     "data": {
      "image/png": "[encoded data removed]",
      "text/plain": [
       "<Figure size 432x288 with 1 Axes>"
      ]
     },
     "metadata": {
      "needs_background": "light"
     },
     "output_type": "display_data"
    }
   ],
   "source": [
    "FDRs_BH = np.zeros(9)\n",
    "\n",
    "for i in range(9):\n",
    "    FDRs_BH[i] = FDR(pi_0[i], alpha)\n",
    "    \n",
    "plt.plot(pi_0, list(FDRs_BH),'ro')\n",
    "plt.xlabel(\"pi_0\")\n",
    "plt.ylabel(\"FDR\")\n",
    "plt.title(\"Benjamini_Hochberg correction\")\n",
    "plt.show()"
   ]
  },
  {
   "cell_type": "markdown",
   "metadata": {},
   "source": [
    "### Summary\n",
    "With Benjiamini-Hochberg, we have an FDR at a reasonable magnitude($\\leq 4\\%$), the Sensitivity is still 0 since $\\alpha_{BH} = 0.00417 < 0.01$, all the positive classes are failed to reject. But this is a very extreme set up to test the FDR and sensitivity of our decision making procedures, and $\\alpha_{BH} = 0.00417$ is very close to making to a correct decision and in reality, it should have made a descent amount of correct rejections, and will boost the sensitivity up."
   ]
  },
  {
   "cell_type": "code",
   "execution_count": null,
   "metadata": {},
   "outputs": [],
   "source": []
  },
  {
   "cell_type": "code",
   "execution_count": null,
   "metadata": {},
   "outputs": [],
   "source": []
  }
 ],
 "metadata": {
  "kernelspec": {
   "display_name": "Python 3",
   "language": "python",
   "name": "python3"
  },
  "language_info": {
   "codemirror_mode": {
    "name": "ipython",
    "version": 3
   },
   "file_extension": ".py",
   "mimetype": "text/x-python",
   "name": "python",
   "nbconvert_exporter": "python",
   "pygments_lexer": "ipython3",
   "version": "3.8.3"
  }
 },
 "nbformat": 4,
 "nbformat_minor": 4
}
